{
 "cells": [
  {
   "cell_type": "code",
   "execution_count": 1,
   "metadata": {},
   "outputs": [],
   "source": [
    "import psycopg2"
   ]
  },
  {
   "cell_type": "code",
   "execution_count": null,
   "metadata": {
    "vscode": {
     "languageId": "markdown"
    }
   },
   "outputs": [],
   "source": [
    "`psycopg2` is a PostgreSQL adapter for the Python programming language. It is used to connect to a PostgreSQL database and perform database operations such as executing SQL queries, retrieving data, and managing transactions. It provides a Python DB-API 2.0 compliant interface to interact with PostgreSQL databases.\n",
    "\n",
    "Key features of `psycopg2` include:\n",
    "- Connection pooling\n",
    "- Support for asynchronous communication\n",
    "- Server-side cursors\n",
    "- Large object support\n",
    "- Copy command support\n",
    "\n",
    "In summary, `psycopg2` is a powerful and efficient library for interacting with PostgreSQL databases from Python applications."
   ]
  },
  {
   "cell_type": "code",
   "execution_count": 10,
   "metadata": {},
   "outputs": [],
   "source": [
    "#Creating a Connection with the PostgreSQL Database\n",
    "try:\n",
    "    conn = psycopg2.connect(\"host = 127.0.0.1 dbname=postgres  user=postgres password=password\")\n",
    "except psycopg2.Error as e:\n",
    "    print(\"Error: Could not make connection to the Postgres database\")\n",
    "    print(e)"
   ]
  },
  {
   "cell_type": "code",
   "execution_count": 11,
   "metadata": {},
   "outputs": [],
   "source": [
    "#Use the connection to get a cursor that will be used to execute queries.\n",
    "\n",
    "try:\n",
    "    cur = conn.cursor()\n",
    "except psycopg2.Error as e:\n",
    "    print(\"Error: Could not get cursor to the Database\")\n",
    "    print(e)    "
   ]
  },
  {
   "cell_type": "code",
   "execution_count": 13,
   "metadata": {},
   "outputs": [],
   "source": [
    "#Set automatic commit to be true so that each action is committed without having to call conn.commit() after each command.\n",
    "conn.set_session(autocommit=True)"
   ]
  },
  {
   "cell_type": "code",
   "execution_count": 14,
   "metadata": {},
   "outputs": [
    {
     "name": "stdout",
     "output_type": "stream",
     "text": [
      "database \"user_db\" already exists\n",
      "\n"
     ]
    }
   ],
   "source": [
    "#Create a database to do the work in\n",
    "\n",
    "try:\n",
    "    cur.execute(\"create database user_db\")\n",
    "except psycopg2.Error as e:\n",
    "    print(e)"
   ]
  },
  {
   "cell_type": "code",
   "execution_count": 16,
   "metadata": {},
   "outputs": [],
   "source": [
    "#Add the database name to the connection parameters and close our connection t othe default database\n",
    "\n",
    "try:\n",
    "    conn.close()\n",
    "except psycopg2.Error as e:\n",
    "    print(e)\n",
    "\n",
    "try:\n",
    "    conn = psycopg2.connect(\"host=127.0.0.1 dbname=user_db user=postgres password=password\")\n",
    "except psycopg2.Error as e:\n",
    "    print(\"Error: Could not make connection to the Postgres database\")\n",
    "    print(e)\n",
    "    \n",
    "try:\n",
    "    cur = conn.cursor()\n",
    "except psycopg2.Error as e:\n",
    "    print(\"Error: Could not get cursor to the Database\")\n",
    "    print(e)\n",
    "\n",
    "conn.set_session(autocommit=True)\n"
   ]
  },
  {
   "cell_type": "code",
   "execution_count": 17,
   "metadata": {},
   "outputs": [],
   "source": [
    "#Creating a table in the database for students\n",
    "\n",
    "try:\n",
    "    cur.execute(\"CREATE TABLE IF NOT EXISTS students (student_id int, name varchar, age int, gender varchar, \\\n",
    "                subject varchar, marks int);\")\n",
    "except psycopg2.Error as e:\n",
    "    print(\"Error: Issue creating table\")\n",
    "    print(e)"
   ]
  },
  {
   "cell_type": "code",
   "execution_count": 18,
   "metadata": {},
   "outputs": [],
   "source": [
    "#Inserting data into the table\n",
    "\n",
    "try: \n",
    "    cur.execute(\"INSERT INTO students (student_id, name, age, gender,subject, marks)\\\n",
    "                VALUES (%s, %s, %s, %s, %s, %s)\",\\\n",
    "                (1, 'John', 22, 'M', 'Math', 90))\n",
    "except psycopg2.Error as e:\n",
    "    print(\"Error: Could not insert data into the table\")\n",
    "    print(e)\n",
    "\n",
    "try: \n",
    "    cur.execute(\"INSERT INTO students (student_id, name, age, gender,subject, marks)\\\n",
    "                VALUES (%s, %s, %s, %s, %s, %s)\",\\\n",
    "                (2, 'Joe', 26, 'M', 'Engineering', 89))\n",
    "except psycopg2.Error as e:\n",
    "    print(\"Error: Could not insert data into the table\")\n",
    "    print(e)\n",
    "\n",
    "try: \n",
    "    cur.execute(\"INSERT INTO students (student_id, name, age, gender,subject, marks)\\\n",
    "                VALUES (%s, %s, %s, %s, %s, %s)\",\\\n",
    "                (3, 'Del', 31, 'M', 'Software Dev', 75))\n",
    "except psycopg2.Error as e:\n",
    "    print(\"Error: Could not insert data into the table\")\n",
    "    print(e)\n",
    "\n",
    "try: \n",
    "    cur.execute(\"INSERT INTO students (student_id, name, age, gender,subject, marks)\\\n",
    "                VALUES (%s, %s, %s, %s, %s, %s)\",\\\n",
    "                (4, 'Mpho', 21, 'F', 'Chemistry', 95))\n",
    "except psycopg2.Error as e:\n",
    "    print(\"Error: Could not insert data into the table\")\n",
    "    print(e)"
   ]
  },
  {
   "cell_type": "code",
   "execution_count": 19,
   "metadata": {},
   "outputs": [
    {
     "name": "stdout",
     "output_type": "stream",
     "text": [
      "(1, 'John', 22, 'M', 'Math', 90)\n",
      "(2, 'Joe', 26, 'M', 'Engineering', 89)\n",
      "(3, 'Del', 31, 'M', 'Software Dev', 75)\n",
      "(4, 'Mpho', 21, 'F', 'Chemistry', 95)\n"
     ]
    }
   ],
   "source": [
    "#Validate that the data was inserted into the table\n",
    "\n",
    "try:\n",
    "    cur.execute(\"SELECT * FROM students;\")\n",
    "except psycopg2.Error as e:\n",
    "    print(\"Error: Could not select data from the table\")\n",
    "    print(e)    \n",
    "\n",
    "row = cur.fetchone()\n",
    "while row:\n",
    "    print(row)\n",
    "    row = cur.fetchone()\n",
    "\n"
   ]
  },
  {
   "cell_type": "code",
   "execution_count": 20,
   "metadata": {},
   "outputs": [],
   "source": [
    "#Closing the connection to the database\n",
    "\n",
    "cur.close()\n",
    "conn.close()"
   ]
  },
  {
   "cell_type": "code",
   "execution_count": null,
   "metadata": {
    "vscode": {
     "languageId": "markdown"
    }
   },
   "outputs": [],
   "source": [
    "`sqlite3` is a C library that provides a lightweight, disk-based database. It doesn't require a separate server process and allows access to the database using a nonstandard variant of the SQL query language. Some key features of `sqlite3` include:\n",
    "\n",
    "- Serverless: No server setup or administration required.\n",
    "- Zero Configuration: No setup or administration needed.\n",
    "- Cross-Platform: Runs on any operating system.\n",
    "- Self-Contained: A single library that can be included in applications.\n",
    "- Transactional: Supports atomic, consistent, isolated, and durable (ACID) transactions.\n",
    "\n",
    "In Python, the `sqlite3` module is used to interact with SQLite databases. It provides an easy-to-use API for executing SQL commands and managing database connections.\n",
    "\n",
    "Here is an example of how to use `sqlite3` in Python:\n"
   ]
  }
 ],
 "metadata": {
  "kernelspec": {
   "display_name": "Python 3",
   "language": "python",
   "name": "python3"
  },
  "language_info": {
   "codemirror_mode": {
    "name": "ipython",
    "version": 3
   },
   "file_extension": ".py",
   "mimetype": "text/x-python",
   "name": "python",
   "nbconvert_exporter": "python",
   "pygments_lexer": "ipython3",
   "version": "3.13.1"
  }
 },
 "nbformat": 4,
 "nbformat_minor": 2
}
